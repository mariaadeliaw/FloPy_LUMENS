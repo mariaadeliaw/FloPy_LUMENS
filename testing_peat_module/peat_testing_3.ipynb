{
 "cells": [
  {
   "attachments": {},
   "cell_type": "markdown",
   "metadata": {},
   "source": [
    "### Import package"
   ]
  },
  {
   "cell_type": "code",
   "execution_count": 55,
   "metadata": {},
   "outputs": [],
   "source": [
    "import numpy as np\n",
    "import matplotlib.pyplot as plt\n",
    "import flopy\n",
    "import flopy.mf6 as mf6\n",
    "from flopy.discretization import StructuredGrid\n",
    "from flopy.utils import Raster\n",
    "from osgeo import gdal\n"
   ]
  },
  {
   "attachments": {},
   "cell_type": "markdown",
   "metadata": {},
   "source": [
    "### Setup model"
   ]
  },
  {
   "cell_type": "code",
   "execution_count": 56,
   "metadata": {},
   "outputs": [],
   "source": [
    "model_name = 'peat_testing_3'\n",
    "workspace = \"../testing_peat_module/Model_Testing_3\""
   ]
  },
  {
   "attachments": {},
   "cell_type": "markdown",
   "metadata": {},
   "source": [
    "### Using flopy's raster class for discretization"
   ]
  },
  {
   "cell_type": "code",
   "execution_count": null,
   "metadata": {},
   "outputs": [],
   "source": [
    "# modelgrid = StructuredGrid(\n",
    "#     delr=np.ones(ncol) * delr,\n",
    "#     delc=np.ones(nrow) * delc,\n",
    "#     xoff=xoffset, yoff=yoffset, angrot=0)\n",
    "\n",
    "# br_surf = Raster.load(\"../testing_peat_module/Raster/DEMNAS_1012-53_v1.0_48s_fill_100m_clip.tif\")\n",
    "# rs = br_surf.resample_to_grid(\n",
    "#     modelgrid, band=1, method='linear')\n",
    "# np.savetxt('../testing_peat_module/Model_Testing_3/data/top.dat', rs)\n",
    "\n",
    "# bottom_1 = Raster.load(\"../testing_peat_module/Raster/peatdepth_0_3_mtr.tif\")\n",
    "# bt_1 = bottom_1.resample_to_grid(\n",
    "#     modelgrid, band=1, method='linear')\n",
    "# np.savetxt('../testing_peat_module/Model_Testing_3/data/bottom_1.dat', bt_1)\n",
    "\n",
    "# # top and bottom grid\n",
    "# top = [{'filename': 'data/top.dat'}]\n",
    "# # botm = [{'filename': 'data/bottom_1.dat'}]\n",
    "\n",
    "# # hydraulic conductivity\n",
    "\n",
    "# # use the model top for starting heads\n",
    "# strt = [top[0]] * nlay\n",
    "\n",
    "# dis = mf6.ModflowGwfdis(\n",
    "#     gwf, nlay=nlay, nrow=nrow, ncol=ncol,\n",
    "#     delr=delr, delc=delc, \n",
    "#     top=top, botm=0, idomain=1)\n",
    "\n",
    "# locate the model grid\n",
    "# gwf.modelgrid.set_coord_info(\n",
    "#     xoff=xoffset, yoff=yoffset, epsg=epsg)\n",
    "# gwf.modelgrid"
   ]
  },
  {
   "attachments": {},
   "cell_type": "markdown",
   "metadata": {},
   "source": [
    "### Discretization using numpy"
   ]
  },
  {
   "cell_type": "code",
   "execution_count": 57,
   "metadata": {},
   "outputs": [],
   "source": [
    "# Raster paths\n",
    "demPath = \"../testing_peat_module/Raster/INA_1sec_srtm_refine_48s_100m_clip.tif\"\n",
    "# Open files\n",
    "demDs = gdal.Open(demPath)\n",
    "# Get data as arrays\n",
    "demData = demDs.GetRasterBand(1).ReadAsArray()"
   ]
  },
  {
   "attachments": {},
   "cell_type": "markdown",
   "metadata": {},
   "source": [
    "### Setup MODFLOW model"
   ]
  },
  {
   "cell_type": "code",
   "execution_count": 58,
   "metadata": {},
   "outputs": [],
   "source": [
    "sim = mf6.MFSimulation(\n",
    "    sim_name=model_name, version=\"mf6\", \n",
    "    exe_name=\"mf6\", sim_ws=workspace)"
   ]
  },
  {
   "attachments": {},
   "cell_type": "markdown",
   "metadata": {},
   "source": [
    "### Setup temporal discretization and solver package"
   ]
  },
  {
   "cell_type": "code",
   "execution_count": 59,
   "metadata": {},
   "outputs": [],
   "source": [
    "tdis = mf6.ModflowTdis(\n",
    "    sim, time_units=\"days\", nper=1, \n",
    "    perioddata=[(1.0, 1, 1.0)])\n",
    "\n",
    "#perioddata: stress period, timestep in a stress period, multiplier\n",
    "\n",
    "ims = mf6.ModflowIms(\n",
    "    sim, complexity=\"moderate\", \n",
    "    outer_dvclose=0.001)"
   ]
  },
  {
   "attachments": {},
   "cell_type": "markdown",
   "metadata": {},
   "source": [
    "### Setup spatial discretization"
   ]
  },
  {
   "cell_type": "code",
   "execution_count": 60,
   "metadata": {},
   "outputs": [
    {
     "data": {
      "text/plain": [
       "array([-10.])"
      ]
     },
     "execution_count": 60,
     "metadata": {},
     "output_type": "execute_result"
    }
   ],
   "source": [
    "# create the model instance\n",
    "gwf = mf6.ModflowGwf(\n",
    "    sim, modelname=model_name, \n",
    "    save_flows=True)\n",
    "\n",
    "# output control\n",
    "oc = mf6.ModflowGwfoc(\n",
    "    gwf, head_filerecord=f'{gwf.name}.hds', \n",
    "    budget_filerecord=f'{gwf.name}.cbc',\n",
    "    saverecord=[('head', 'all'), (\"budget\", \"all\")])\n",
    "\n",
    "# set up the discretization package\n",
    "Nrow = demDs.RasterXSize\n",
    "Ncol = demDs.RasterYSize\n",
    "cell_size = demDs.GetGeoTransform()[1]\n",
    "ztop = demDs.ReadAsArray()\n",
    "zbot = np.linspace(-10/1, -10, 1 ) # set constant thickness of 10 units\n",
    "\n",
    "dis = flopy.mf6.ModflowGwfdis(gwf, nlay=1, nrow=Nrow, ncol=Ncol, delr=cell_size, delc=cell_size,\n",
    "                              top=ztop, botm=zbot)\n",
    "\n",
    "\n",
    "zbot"
   ]
  },
  {
   "attachments": {},
   "cell_type": "markdown",
   "metadata": {},
   "source": [
    "### Assign aquifer properties\n",
    "Since this is a steady-state model, we need only include the Node Property Flow (NPF) package, which specifies hydraulic conductivity."
   ]
  },
  {
   "cell_type": "code",
   "execution_count": 61,
   "metadata": {},
   "outputs": [],
   "source": [
    "hk = [1E-6] # set hydraulic conductivity value uniformly across the model\n",
    "npf = mf6.ModflowGwfnpf(\n",
    "        gwf, pname=\"npf\", icelltype=1, k=hk, save_flows=True\n",
    ")"
   ]
  },
  {
   "attachments": {},
   "cell_type": "markdown",
   "metadata": {},
   "source": [
    "### Assign initial condition"
   ]
  },
  {
   "cell_type": "code",
   "execution_count": 62,
   "metadata": {},
   "outputs": [],
   "source": [
    "strt = 3 #meter\n",
    "# or can be adapted from external initial head source\n",
    "ic = mf6.ModflowGwfic(gwf, strt=strt)"
   ]
  },
  {
   "attachments": {},
   "cell_type": "markdown",
   "metadata": {},
   "source": [
    "### Assign boundary condition (not yet assigned)"
   ]
  },
  {
   "attachments": {},
   "cell_type": "markdown",
   "metadata": {},
   "source": [
    "#### recharge"
   ]
  },
  {
   "cell_type": "code",
   "execution_count": 54,
   "metadata": {},
   "outputs": [],
   "source": [
    "index = np.zeros((Nrow, Ncol), dtype=float)\n",
    "#apply recharge on selected cells\n",
    "rchr = 0.2/365/86400\n",
    "rchr_list = []\n",
    "for i in index:\n",
    "    rchr_list.append([0,i,rchr])\n",
    "rchr_spd = {0:rchr_list}\n",
    "#recharge package\n",
    "rch = flopy.mf6.ModflowGwfrch(gwf, stress_period_data=rchr_spd)\n"
   ]
  },
  {
   "attachments": {},
   "cell_type": "markdown",
   "metadata": {},
   "source": [
    "#### constant head boundary"
   ]
  },
  {
   "cell_type": "code",
   "execution_count": null,
   "metadata": {},
   "outputs": [],
   "source": [
    "# constant head boundary\n",
    "# chd = mf6.ModflowGwfchd #(gwf, stress_period_data=spec_head_perimeter)"
   ]
  },
  {
   "attachments": {},
   "cell_type": "markdown",
   "metadata": {},
   "source": [
    "#### drainage"
   ]
  },
  {
   "cell_type": "code",
   "execution_count": null,
   "metadata": {},
   "outputs": [],
   "source": [
    "# drainage"
   ]
  },
  {
   "attachments": {},
   "cell_type": "markdown",
   "metadata": {},
   "source": [
    "#### river"
   ]
  },
  {
   "attachments": {},
   "cell_type": "markdown",
   "metadata": {},
   "source": [
    "### Write simulation file"
   ]
  },
  {
   "cell_type": "code",
   "execution_count": 63,
   "metadata": {},
   "outputs": [
    {
     "name": "stdout",
     "output_type": "stream",
     "text": [
      "writing simulation...\n",
      "  writing simulation name file...\n",
      "  writing simulation tdis package...\n",
      "  writing ims package ims_-1...\n",
      "  writing model peat_testing_3...\n",
      "    writing model name file...\n",
      "    writing package oc...\n",
      "    writing package dis...\n",
      "    writing package npf...\n",
      "    writing package ic...\n"
     ]
    }
   ],
   "source": [
    "sim.write_simulation()"
   ]
  },
  {
   "attachments": {},
   "cell_type": "markdown",
   "metadata": {},
   "source": [
    "### Run the model"
   ]
  },
  {
   "cell_type": "code",
   "execution_count": 64,
   "metadata": {},
   "outputs": [
    {
     "name": "stdout",
     "output_type": "stream",
     "text": [
      "FloPy is using the following executable to run the model: C:\\Users\\mwidijanto\\AppData\\Local\\flopy\\bin\\mf6.EXE\n",
      "                                   MODFLOW 6\n",
      "                U.S. GEOLOGICAL SURVEY MODULAR HYDROLOGIC MODEL\n",
      "                        VERSION 6.4.1 Release 12/09/2022\n",
      "\n",
      "   MODFLOW 6 compiled Dec 10 2022 05:57:01 with Intel(R) Fortran Intel(R) 64\n",
      "   Compiler Classic for applications running on Intel(R) 64, Version 2021.7.0\n",
      "                             Build 20220726_000000\n",
      "\n",
      "This software has been approved for release by the U.S. Geological \n",
      "Survey (USGS). Although the software has been subjected to rigorous \n",
      "review, the USGS reserves the right to update the software as needed \n",
      "pursuant to further analysis and review. No warranty, expressed or \n",
      "implied, is made by the USGS or the U.S. Government as to the \n",
      "functionality of the software and related material nor shall the \n",
      "fact of release constitute any such warranty. Furthermore, the \n",
      "software is released on condition that neither the USGS nor the U.S. \n",
      "Government shall be held liable for any damages resulting from its \n",
      "authorized or unauthorized use. Also refer to the USGS Water \n",
      "Resources Software User Rights Notice for complete use, copyright, \n",
      "and distribution information.\n",
      "\n",
      " \n",
      " Run start date and time (yyyy/mm/dd hh:mm:ss): 2023/06/26 11:32:59\n",
      " \n",
      " Writing simulation list file: mfsim.lst\n",
      " Using Simulation name file: mfsim.nam\n",
      " \n",
      "    Solving:  Stress period:     1    Time step:     1\n",
      " \n",
      " Run end date and time (yyyy/mm/dd hh:mm:ss): 2023/06/26 11:32:59\n",
      " Elapsed run time:  0.149 Seconds\n",
      " \n",
      " Normal termination of simulation.\n"
     ]
    },
    {
     "data": {
      "text/plain": [
       "(True, [])"
      ]
     },
     "execution_count": 64,
     "metadata": {},
     "output_type": "execute_result"
    }
   ],
   "source": [
    "sim.run_simulation()"
   ]
  },
  {
   "attachments": {},
   "cell_type": "markdown",
   "metadata": {},
   "source": [
    "### Post procesing"
   ]
  },
  {
   "cell_type": "code",
   "execution_count": null,
   "metadata": {},
   "outputs": [],
   "source": [
    "from flopy.utils.postprocessing import get_water_table\n",
    "\n",
    "hds = gwf.output.head().get_data()\n",
    "wt = get_water_table(hds)"
   ]
  },
  {
   "cell_type": "code",
   "execution_count": null,
   "metadata": {},
   "outputs": [],
   "source": [
    "cbc = gwf.output.budget()"
   ]
  },
  {
   "cell_type": "code",
   "execution_count": null,
   "metadata": {},
   "outputs": [],
   "source": [
    "fig, ax = plt.subplots(figsize=(6, 6))\n",
    "pmv = flopy.plot.PlotMapView(gwf, ax=ax)\n",
    "ctr = pmv.contour_array(\n",
    "    wt, levels=np.arange(290, 315, 1), \n",
    "    linewidths=1, colors='b')\n",
    "labels = pmv.ax.clabel(\n",
    "    ctr, inline=True, \n",
    "    fontsize=8, inline_spacing=1)\n",
    "vmin, vmax = -100, 100\n",
    "# im = pmv.plot_array(\n",
    "#     lak[0], cmap='coolwarm', \n",
    "#     vmin=vmin, vmax=vmax)\n",
    "# im = pmv.plot_array(\n",
    "#     sfr.sum(axis=0), cmap='coolwarm', \n",
    "#     vmin=vmin, vmax=vmax)\n",
    "# cb = fig.colorbar(\n",
    "#     im, shrink=0.5, label='Leakage, in m$^3$/day')\n",
    "# ax.set_ylabel(\"Northing, WTM meters\")\n",
    "# ax.set_xlabel(\"Easting, WTM meters\")\n",
    "ax.set_aspect(1)\n",
    "plt.tight_layout()\n",
    "# plt.savefig('results.pdf')"
   ]
  }
 ],
 "metadata": {
  "kernelspec": {
   "display_name": "Python 3",
   "language": "python",
   "name": "python3"
  },
  "language_info": {
   "codemirror_mode": {
    "name": "ipython",
    "version": 3
   },
   "file_extension": ".py",
   "mimetype": "text/x-python",
   "name": "python",
   "nbconvert_exporter": "python",
   "pygments_lexer": "ipython3",
   "version": "3.11.1"
  },
  "orig_nbformat": 4
 },
 "nbformat": 4,
 "nbformat_minor": 2
}
