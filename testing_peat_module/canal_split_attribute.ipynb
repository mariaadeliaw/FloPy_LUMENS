{
 "cells": [
  {
   "cell_type": "code",
   "execution_count": 8,
   "metadata": {},
   "outputs": [],
   "source": [
    "import geopandas as gpd\n",
    "from shapely.geometry import Point\n",
    "import pandas as pd\n",
    "\n",
    "workspace = \"D:/MW/DATA/LUMENS/LUMENS_PEAT/TESTING/DATA/Testing_2/1Vector\"  # Replace with the path to your geodatabase or folder containing the shapefiles\n",
    "input_polyline = \"canal_BRG_48s_split.shp\"  # Replace with the filename of the polyline shapefile\n",
    "output_polyline = \"canal_BRG_48s_split_test.shp\"\n",
    "final_polyline = \"canal_BRG_48s_split_final.shp\"\n",
    "chosen_fid = 123  # Replace with the FID you want to keep\n"
   ]
  },
  {
   "cell_type": "code",
   "execution_count": 11,
   "metadata": {},
   "outputs": [
    {
     "name": "stderr",
     "output_type": "stream",
     "text": [
      "c:\\Users\\mwidijanto\\AppData\\Local\\Programs\\Python\\Python311\\Lib\\site-packages\\geopandas\\geodataframe.py:1443: SettingWithCopyWarning: \n",
      "A value is trying to be set on a copy of a slice from a DataFrame.\n",
      "Try using .loc[row_indexer,col_indexer] = value instead\n",
      "\n",
      "See the caveats in the documentation: https://pandas.pydata.org/pandas-docs/stable/user_guide/indexing.html#returning-a-view-versus-a-copy\n",
      "  super().__setitem__(key, value)\n"
     ]
    }
   ],
   "source": [
    "input_gdf = gpd.read_file(f\"{workspace}/{input_polyline}\")\n",
    "\n",
    "# Create a new column named 'unique_id' and assign unique numbers to each feature\n",
    "input_gdf['unique_id'] = range(1, len(input_gdf) + 1)\n",
    "\n",
    "# Save the updated GeoDataFrame back to the shapefile\n",
    "input_gdf.to_file(f\"{workspace}/{output_polyline}\")\n",
    "\n",
    "# Create a new GeoDataFrame containing only the chosen FID\n",
    "chosen_gdf = input_gdf[input_gdf['unique_id'] == chosen_fid]\n",
    "\n",
    "# Create a new GeoDataFrame containing the dissolved features\n",
    "dissolve_gdf = input_gdf[input_gdf['unique_id'] != chosen_fid]\n",
    "\n",
    "# Assign a constant value (1 in this case) to a new column 'dissolveField'\n",
    "dissolve_gdf['dissolveField'] = 1\n",
    "\n",
    "# Dissolve the features based on the 'dissolveField' column\n",
    "dissolved_gdf = dissolve_gdf.dissolve(by='dissolveField')\n",
    "\n",
    "# Concatenate the chosen features with the dissolved features\n",
    "result_gdf = gpd.GeoDataFrame(pd.concat([chosen_gdf, dissolved_gdf], ignore_index=True))\n",
    "\n",
    "# print(input_gdf.columns)"
   ]
  },
  {
   "cell_type": "code",
   "execution_count": 12,
   "metadata": {},
   "outputs": [],
   "source": [
    "result_gdf.to_file(f\"{workspace}/{final_polyline}\")  # Replace 'output_polyline.shp' with the desired filename\n"
   ]
  }
 ],
 "metadata": {
  "kernelspec": {
   "display_name": "Python 3",
   "language": "python",
   "name": "python3"
  },
  "language_info": {
   "codemirror_mode": {
    "name": "ipython",
    "version": 3
   },
   "file_extension": ".py",
   "mimetype": "text/x-python",
   "name": "python",
   "nbconvert_exporter": "python",
   "pygments_lexer": "ipython3",
   "version": "3.11.1"
  },
  "orig_nbformat": 4
 },
 "nbformat": 4,
 "nbformat_minor": 2
}
