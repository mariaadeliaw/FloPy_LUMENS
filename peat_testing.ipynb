{
 "cells": [
  {
   "attachments": {},
   "cell_type": "markdown",
   "metadata": {},
   "source": [
    "### Import libraries"
   ]
  },
  {
   "cell_type": "code",
   "execution_count": 27,
   "metadata": {},
   "outputs": [],
   "source": [
    "import flopy\n",
    "import os\n",
    "import flopy.utils.binaryfile as bf\n",
    "import numpy as np\n",
    "from osgeo import gdal\n",
    "import pandas as pd\n",
    "import geopandas as gpd\n",
    "import matplotlib.pyplot as plt\n",
    "from tempfile import TemporaryDirectory\n",
    "from pathlib import Path"
   ]
  },
  {
   "attachments": {},
   "cell_type": "markdown",
   "metadata": {},
   "source": [
    "### Create MODFLOW model simulation file"
   ]
  },
  {
   "cell_type": "code",
   "execution_count": 2,
   "metadata": {},
   "outputs": [],
   "source": [
    "name = \"peat_testing_0\"\n",
    "temp_dir = TemporaryDirectory()\n",
    "workspace = temp_dir.name\n",
    "\n",
    "sim = flopy.mf6.MFSimulation(sim_name = name, \n",
    "                            sim_ws=workspace)\n"
   ]
  },
  {
   "attachments": {},
   "cell_type": "markdown",
   "metadata": {},
   "source": [
    "### Set time discretization \n",
    "\n",
    "Set simulation for:\n",
    "- 10 stress periods\n",
    "- 365 (days?) of stress period length\n",
    "- 1 time steps in a stress period\n",
    "- 1 multiplier length of stress period"
   ]
  },
  {
   "cell_type": "code",
   "execution_count": 3,
   "metadata": {},
   "outputs": [
    {
     "data": {
      "text/plain": [
       "package_name = peat_testing_0.tdis\n",
       "filename = peat_testing_0.tdis\n",
       "package_type = tdis\n",
       "model_or_simulation_package = simulation\n",
       "simulation_name = peat_testing_0\n",
       "\n",
       "Block dimensions\n",
       "--------------------\n",
       "nper\n",
       "{internal}\n",
       "(10)\n",
       "\n",
       "\n",
       "Block perioddata\n",
       "--------------------\n",
       "perioddata\n",
       "{internal}\n",
       "(rec.array([(365., 1, 1.), (365., 1, 1.), (365., 1, 1.), (365., 1, 1.),\n",
       "           (365., 1, 1.), (365., 1, 1.), (365., 1, 1.), (365., 1, 1.),\n",
       "           (365., 1, 1.), (365., 1, 1.)],\n",
       "          dtype=[('perlen', '<f8'), ('nstp', '<i4'), ('tsmult', '<f8')]))\n",
       "\n"
      ]
     },
     "execution_count": 3,
     "metadata": {},
     "output_type": "execute_result"
    }
   ],
   "source": [
    "tdis = flopy.mf6.ModflowTdis(\n",
    "    sim, nper=10, perioddata=[[365,1,1] for _ in range(10)]\n",
    ")"
   ]
  },
  {
   "attachments": {},
   "cell_type": "markdown",
   "metadata": {},
   "source": [
    "### Set iterative model solver (ims) and gwf package (?)"
   ]
  },
  {
   "cell_type": "code",
   "execution_count": 6,
   "metadata": {},
   "outputs": [
    {
     "name": "stdout",
     "output_type": "stream",
     "text": [
      "WARNING: ims package with name ims_0 already exists. New ims package will replace old package.\n"
     ]
    },
    {
     "data": {
      "text/plain": [
       "name = peat_testing_0\n",
       "model_type = gwf6\n",
       "version = mf6\n",
       "model_relative_path = .\n"
      ]
     },
     "execution_count": 6,
     "metadata": {},
     "output_type": "execute_result"
    }
   ],
   "source": [
    "ims = flopy.mf6.ModflowIms(sim)\n",
    "gwf = flopy.mf6.ModflowGwf(sim, modelname=name, save_flows=True)\n",
    "\n",
    "gwf"
   ]
  },
  {
   "attachments": {},
   "cell_type": "markdown",
   "metadata": {},
   "source": [
    "### Read raster input files for grid discretization"
   ]
  },
  {
   "cell_type": "code",
   "execution_count": 30,
   "metadata": {},
   "outputs": [],
   "source": [
    "# Raster paths\n",
    "demPath = \"../testing_peat_module/Raster//DEMNAS_1012-53_v1.0_48s_fill_100m_clip.tif\"\n",
    "\n",
    "# Open files\n",
    "demDs = gdal.Open(demPath)\n",
    "\n",
    "# Get data as arrays\n",
    "demData = demDs.GetRasterBand(1).ReadAsArray()"
   ]
  },
  {
   "attachments": {},
   "cell_type": "markdown",
   "metadata": {},
   "source": [
    "### Set grid"
   ]
  },
  {
   "cell_type": "code",
   "execution_count": 21,
   "metadata": {},
   "outputs": [
    {
     "data": {
      "text/plain": [
       "117"
      ]
     },
     "execution_count": 21,
     "metadata": {},
     "output_type": "execute_result"
    }
   ],
   "source": [
    "# spatial discretization object\n",
    "ztop = demData\n",
    "zbot = 0\n",
    "nlay = 2\n",
    "nrow = demDs.RasterYSize\n",
    "ncol = demDs.RasterXSize\n",
    "\n",
    "\n",
    "dis = flopy.mf6.ModflowGwfdis(gwf, nlay, nrow, ncol, ztop, top=zbot, botm=zbot)\n"
   ]
  },
  {
   "attachments": {},
   "cell_type": "markdown",
   "metadata": {},
   "source": [
    "### Create initial condition package"
   ]
  },
  {
   "cell_type": "code",
   "execution_count": 22,
   "metadata": {},
   "outputs": [
    {
     "name": "stdout",
     "output_type": "stream",
     "text": [
      "WARNING: Unable to resolve dimension of ('gwf6', 'ic', 'griddata', 'strt', 'strt') based on shape \"nodes\".\n"
     ]
    }
   ],
   "source": [
    "# Initial head\n",
    "start = 3\n",
    "\n",
    "ic = flopy.mf6.modflow.mfgwfic.ModflowGwfic(gwf, pname= \"ic\", strt=start)"
   ]
  },
  {
   "attachments": {},
   "cell_type": "markdown",
   "metadata": {},
   "source": [
    "### Set hydraulic conductivity (property flow)"
   ]
  },
  {
   "cell_type": "code",
   "execution_count": 25,
   "metadata": {},
   "outputs": [
    {
     "name": "stdout",
     "output_type": "stream",
     "text": [
      "WARNING: Package with type npf already exists. Replacing existing package.\n",
      "WARNING: Unable to resolve dimension of ('gwf6', 'npf', 'griddata', 'icelltype', 'icelltype') based on shape \"nodes\".\n",
      "WARNING: Unable to resolve dimension of ('gwf6', 'npf', 'griddata', 'k', 'k') based on shape \"nodes\".\n"
     ]
    },
    {
     "data": {
      "text/plain": [
       "package_name = npf\n",
       "filename = peat_testing_0.npf\n",
       "package_type = npf\n",
       "model_or_simulation_package = model\n",
       "model_name = peat_testing_0\n",
       "\n",
       "Block options\n",
       "--------------------\n",
       "save_flows\n",
       "{internal}\n",
       "(True)\n",
       "\n",
       "\n",
       "Block griddata\n",
       "--------------------\n",
       "icelltype\n",
       "{constant 1}\n",
       "\n",
       "k\n",
       "{constant 1e-06}\n",
       "\n"
      ]
     },
     "execution_count": 25,
     "metadata": {},
     "output_type": "execute_result"
    }
   ],
   "source": [
    "# Set hydraulic conductivity value\n",
    "hk = [1E-6]\n",
    "# Create node property flow package\n",
    "npf = flopy.mf6.modflow.mfgwfnpf.ModflowGwfnpf(\n",
    "    gwf, pname=\"npf\", icelltype=1, k=hk, save_flows=True\n",
    ")\n",
    "\n",
    "npf"
   ]
  },
  {
   "attachments": {},
   "cell_type": "markdown",
   "metadata": {},
   "source": [
    "### Add RIV package"
   ]
  },
  {
   "cell_type": "code",
   "execution_count": 33,
   "metadata": {},
   "outputs": [
    {
     "data": {
      "text/plain": [
       "<osgeo.gdal.Dataset; proxy of <Swig Object of type 'GDALDatasetShadow *' at 0x0000027F45662DF0> >"
      ]
     },
     "execution_count": 33,
     "metadata": {},
     "output_type": "execute_result"
    }
   ],
   "source": [
    "#Add the drain package (DRN) to the MODFLOW model\n",
    "river_path = \"../testing_peat_module/Raster/Stream_DEMNAS.tif\"\n",
    "river = gdal.Open(river_path)\n",
    "list = []\n",
    "for i in range(river.shape[0]):\n",
    "    for q in range(river.shape[1]):\n",
    "        if river[i,q] == 1:\n",
    "            list.append([0,i,q,ztop[i,q],0.001]) #layer,row,column,elevation(float),conductance\n",
    "rivDrn = {0:list}\n",
    "\n",
    "drn = flopy.modflow.ModflowDrn(gwf, stress_period_data=rivDrn)\n",
    "\n",
    "river"
   ]
  }
 ],
 "metadata": {
  "kernelspec": {
   "display_name": "Python 3",
   "language": "python",
   "name": "python3"
  },
  "language_info": {
   "codemirror_mode": {
    "name": "ipython",
    "version": 3
   },
   "file_extension": ".py",
   "mimetype": "text/x-python",
   "name": "python",
   "nbconvert_exporter": "python",
   "pygments_lexer": "ipython3",
   "version": "3.11.1"
  },
  "orig_nbformat": 4,
  "vscode": {
   "interpreter": {
    "hash": "71aaff4bca0f06a95b4862a931d125edc892d6921a410fa435b77a6cb5138404"
   }
  }
 },
 "nbformat": 4,
 "nbformat_minor": 2
}
