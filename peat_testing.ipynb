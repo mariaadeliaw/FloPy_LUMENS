{
 "cells": [
  {
   "attachments": {},
   "cell_type": "markdown",
   "metadata": {},
   "source": [
    "### Import libraries"
   ]
  },
  {
   "cell_type": "code",
   "execution_count": null,
   "metadata": {},
   "outputs": [],
   "source": [
    "import flopy\n",
    "import os\n",
    "import flopy.utils.binaryfile as bf\n",
    "import numpy as np\n",
    "from osgeo import gdal\n",
    "import pandas as pd\n",
    "import geopandas as gpd\n",
    "import matplotlib.pyplot as plt\n",
    "from tempfile import TemporaryDirectory\n",
    "from pathlib import Path"
   ]
  },
  {
   "attachments": {},
   "cell_type": "markdown",
   "metadata": {},
   "source": [
    "### Create MODFLOW model simulation file"
   ]
  },
  {
   "cell_type": "code",
   "execution_count": null,
   "metadata": {},
   "outputs": [],
   "source": [
    "name = \"peat_testing_0\"\n",
    "workspace=\"../testing_peat_module/Model/\"\n",
    "\n",
    "sim = flopy.mf6.MFSimulation(sim_name = name, \n",
    "                            sim_ws=workspace)\n"
   ]
  },
  {
   "attachments": {},
   "cell_type": "markdown",
   "metadata": {},
   "source": [
    "### Set time discretization \n",
    "\n",
    "Set simulation for:\n",
    "- 10 stress periods\n",
    "- 5 days of stress period length\n",
    "- 1 time steps in a stress period\n",
    "- 1 multiplier length of stress period"
   ]
  },
  {
   "cell_type": "code",
   "execution_count": null,
   "metadata": {},
   "outputs": [],
   "source": [
    "tdis = flopy.mf6.modflow.mftdis.ModflowTdis(\n",
    "    sim, nper=10,time_units=\"DAYS\", perioddata=[[5,1,1] for _ in range(10)]\n",
    ")"
   ]
  },
  {
   "attachments": {},
   "cell_type": "markdown",
   "metadata": {},
   "source": [
    "### Set iterative model solver (ims) and gwf package (?)"
   ]
  },
  {
   "cell_type": "code",
   "execution_count": null,
   "metadata": {},
   "outputs": [],
   "source": [
    "ims = flopy.mf6.modflow.mfims.ModflowIms(sim, pname=\"ims\", complexity=\"SIMPLE\")\n",
    "gwf = flopy.mf6.ModflowGwf(sim, modelname=name, save_flows=True)\n",
    "model_nam_file = \"{}.nam\".format(name)"
   ]
  },
  {
   "attachments": {},
   "cell_type": "markdown",
   "metadata": {},
   "source": [
    "### Read raster input files for grid discretization"
   ]
  },
  {
   "cell_type": "code",
   "execution_count": null,
   "metadata": {},
   "outputs": [],
   "source": [
    "# Raster paths\n",
    "demPath = \"../testing_peat_module/Raster//DEMNAS_1012-53_v1.0_48s_fill_100m_clip.tif\"\n",
    "\n",
    "# Open files\n",
    "demDs = gdal.Open(demPath)\n",
    "\n",
    "# Get data as arrays\n",
    "demData = demDs.GetRasterBand(1).ReadAsArray()"
   ]
  },
  {
   "attachments": {},
   "cell_type": "markdown",
   "metadata": {},
   "source": [
    "### Set grid"
   ]
  },
  {
   "cell_type": "code",
   "execution_count": null,
   "metadata": {},
   "outputs": [],
   "source": [
    "# spatial discretization object\n",
    "\n",
    "# Nlay = 2\n",
    "Nrow = demDs.RasterXSize\n",
    "Ncol = demDs.RasterYSize\n",
    "cell_size = demDs.GetGeoTransform()[1]\n",
    "ztop = demDs.ReadAsArray()\n",
    "zbot = np.linspace(-10/1, -10, 1 ) # set constant thickness of 10 units\n",
    "\n",
    "dis = flopy.mf6.ModflowGwfdis(gwf, nlay=1, nrow=Nrow, ncol=Ncol, delr=cell_size, delc=cell_size,\n",
    "                              top=ztop, botm=zbot)\n",
    "\n",
    "# square model with a specified head equal to h1 along the edge of the model in layer 1. \n",
    "# A well is located in the center of the upper-left quadrant in layer 10. \n",
    "# First, set the name of the model and the parameters of the model: \n",
    "# the number of layers Nlay, \n",
    "# the number of rows and columns N, \n",
    "# lengths of the sides of the model L, \n",
    "# aquifer thickness H, hydraulic conductivity k, \n",
    "# and the well pumping rate q.\n",
    "\n",
    "# h1 = 100\n",
    "# Nlay = 10\n",
    "# N = 101\n",
    "# L = 400.0\n",
    "# H = 50.0\n",
    "# k = 1.0\n",
    "# q = -1000.0\n",
    "\n",
    "# bot = np.linspace(-H / Nlay, -H, Nlay)\n",
    "# delrow = delcol = L / (N - 1)\n",
    "# dis = flopy.mf6.ModflowGwfdis(\n",
    "#     gwf,\n",
    "#     nlay=Nlay,\n",
    "#     nrow=N,\n",
    "#     ncol=N,\n",
    "#     delr=delrow,\n",
    "#     delc=delcol,\n",
    "#     top=0.0,\n",
    "#     botm=bot,\n",
    "# )\n",
    "\n",
    "zbot"
   ]
  },
  {
   "attachments": {},
   "cell_type": "markdown",
   "metadata": {},
   "source": [
    "### Create initial condition package"
   ]
  },
  {
   "cell_type": "code",
   "execution_count": null,
   "metadata": {},
   "outputs": [],
   "source": [
    "# Initial head\n",
    "start = 3\n",
    "\n",
    "ic = flopy.mf6.modflow.mfgwfic.ModflowGwfic(gwf, pname= \"ic\", strt=start)"
   ]
  },
  {
   "attachments": {},
   "cell_type": "markdown",
   "metadata": {},
   "source": [
    "### Set hydraulic conductivity (property flow)"
   ]
  },
  {
   "cell_type": "code",
   "execution_count": null,
   "metadata": {},
   "outputs": [],
   "source": [
    "# Set hydraulic conductivity value\n",
    "hk = [1E-6]\n",
    "# Create node property flow package\n",
    "npf = flopy.mf6.modflow.mfgwfnpf.ModflowGwfnpf(\n",
    "    gwf, pname=\"npf\", icelltype=1, k=hk, save_flows=True\n",
    ")"
   ]
  },
  {
   "attachments": {},
   "cell_type": "markdown",
   "metadata": {},
   "source": [
    "### Add RIV package"
   ]
  },
  {
   "cell_type": "code",
   "execution_count": null,
   "metadata": {},
   "outputs": [],
   "source": [
    "#Add the drain package (DRN) to the MODFLOW model\n",
    "river_path = \"../testing_peat_module/Raster/Stream_DEMNAS.tif\"\n",
    "river = gdal.Open(river_path)\n",
    "riv_nrow = river.RasterYSize\n",
    "riv_ncol = river.RasterXSize\n",
    "riv_cellsize = river.GetGeoTransform()[1]\n",
    "\n",
    "list = []\n",
    "for i in range(riv_nrow):\n",
    "    for j in range(riv_ncol):\n",
    "        value = river.GetRasterBand(1).ReadAsArray()[i][j]\n",
    "        if value == 1:\n",
    "            list.append([0, i, j, ztop[i][j], 0.001])  # layer, row, column, elevation, conductance\n",
    "\n",
    "drn_spd = {0:list}\n",
    "drn = flopy.mf6.ModflowGwfdrn(gwf, stress_period_data=drn_spd)\n",
    "\n"
   ]
  },
  {
   "cell_type": "code",
   "execution_count": null,
   "metadata": {},
   "outputs": [],
   "source": [
    "# Create the constant head package.\n",
    "# List information is created a bit differently for\n",
    "# MODFLOW 6 than for other MODFLOW versions.  The\n",
    "# cellid (layer, row, column, for a regular grid)\n",
    "# must be entered as a tuple as the first entry.\n",
    "# Remember that these must be zero-based indices!\n",
    "N = 101\n",
    "h1 = h2 = start\n",
    "\n",
    "chd_rec = []\n",
    "chd_rec.append(((0, int(N / 4), int (N / 4)), h2))\n",
    "for layer in range(0, Nlay):\n",
    "    for row_col in range(0, N):\n",
    "        chd_rec.append(((layer, row_col, 0), h1))\n",
    "        chd_rec.append(((layer, row_col, N - 1), h1))\n",
    "        if row_col != 0 and row_col != N - 1:\n",
    "            chd_rec.append(((layer, 0, row_col), h1))\n",
    "            chd_rec.append(((layer, N - 1, row_col), h1))\n",
    "chd = flopy.mf6.modflow.mfgwfchd.ModflowGwfchd(\n",
    "    gwf,\n",
    "    pname=\"chd\",\n",
    "    maxbound=len(chd_rec),\n",
    "    stress_period_data=chd_rec,\n",
    "    save_flows=True,\n",
    ")"
   ]
  },
  {
   "cell_type": "code",
   "execution_count": null,
   "metadata": {},
   "outputs": [],
   "source": [
    "sim.write_simulation()\n",
    "print(os.listdir(workspace))\n"
   ]
  },
  {
   "cell_type": "code",
   "execution_count": null,
   "metadata": {},
   "outputs": [],
   "source": [
    "# Run the simulation\n",
    "success, buff = sim.run_simulation()\n",
    "print(\"\\nSuccess is: \", success)"
   ]
  }
 ],
 "metadata": {
  "kernelspec": {
   "display_name": "Python 3",
   "language": "python",
   "name": "python3"
  },
  "language_info": {
   "codemirror_mode": {
    "name": "ipython",
    "version": 3
   },
   "file_extension": ".py",
   "mimetype": "text/x-python",
   "name": "python",
   "nbconvert_exporter": "python",
   "pygments_lexer": "ipython3",
   "version": "3.11.1"
  },
  "orig_nbformat": 4,
  "vscode": {
   "interpreter": {
    "hash": "71aaff4bca0f06a95b4862a931d125edc892d6921a410fa435b77a6cb5138404"
   }
  }
 },
 "nbformat": 4,
 "nbformat_minor": 2
}
